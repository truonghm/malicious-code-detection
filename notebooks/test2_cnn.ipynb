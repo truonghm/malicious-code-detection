{
 "cells": [
  {
   "cell_type": "code",
   "execution_count": 1,
   "metadata": {},
   "outputs": [],
   "source": [
    "import logging\n",
    "import os\n",
    "from slimit.lexer import Lexer\n",
    "from calmjs.parse.lexers.es5 import Lexer as ES5Lexer\n",
    "from sklearn.feature_extraction.text import TfidfTransformer\n",
    "from sklearn.feature_extraction.text import CountVectorizer\n",
    "from sklearn import manifold\n",
    "from sklearn.model_selection import LeaveOneOut\n",
    "from sklearn import metrics\n",
    "import matplotlib.pyplot as plt\n",
    "%matplotlib inline\n",
    "import seaborn as sns\n",
    "import numpy as np"
   ]
  },
  {
   "cell_type": "code",
   "execution_count": 2,
   "metadata": {},
   "outputs": [
    {
     "name": "stdout",
     "output_type": "stream",
     "text": [
      "/home/truonghm/learning/m1-internship/malicious-code-detection\n"
     ]
    }
   ],
   "source": [
    "from dotenv import load_dotenv\n",
    "load_dotenv()\n",
    "\n",
    "os.chdir(os.getenv(\"PROJECT_ROOT_DIR\"))\n",
    "print(os.getcwd())"
   ]
  },
  {
   "cell_type": "code",
   "execution_count": 3,
   "metadata": {},
   "outputs": [],
   "source": [
    "%load_ext autoreload\n",
    "%autoreload 2"
   ]
  },
  {
   "cell_type": "code",
   "execution_count": 4,
   "metadata": {},
   "outputs": [],
   "source": [
    "from lib.dataset import CodeDirectoryCorpus"
   ]
  },
  {
   "cell_type": "code",
   "execution_count": 5,
   "metadata": {},
   "outputs": [
    {
     "name": "stderr",
     "output_type": "stream",
     "text": [
      "/home/truonghm/learning/m1-internship/malicious-code-detection/lib/dataset.py:118: RuntimeWarning: Disabled dictionary initialization\n",
      "  warnings.warn(\"Disabled dictionary initialization\", RuntimeWarning)\n"
     ]
    }
   ],
   "source": [
    "corpus = CodeDirectoryCorpus('data/all/kaggle1', exclude_pattern=\"badHTML\", sampling=1, seed=42)"
   ]
  },
  {
   "cell_type": "code",
   "execution_count": 6,
   "metadata": {},
   "outputs": [
    {
     "name": "stderr",
     "output_type": "stream",
     "text": [
      "/home/truonghm/learning/m1-internship/malicious-code-detection/lib/dataset.py:111: RuntimeWarning: This is only an approximate length, since there might be errors in the corpus leading to some files not being read\n",
      "  warnings.warn(\n"
     ]
    },
    {
     "data": {
      "text/plain": [
       "599"
      ]
     },
     "execution_count": 6,
     "metadata": {},
     "output_type": "execute_result"
    }
   ],
   "source": [
    "len(corpus)"
   ]
  },
  {
   "cell_type": "code",
   "execution_count": 7,
   "metadata": {},
   "outputs": [],
   "source": [
    "Y = corpus.labels"
   ]
  },
  {
   "cell_type": "code",
   "execution_count": 8,
   "metadata": {},
   "outputs": [],
   "source": [
    "import torch.nn as nn\n",
    "import torch\n",
    "\n",
    "class CNNTextClassifier(nn.Module):\n",
    "    def __init__(self, pretrained_embeddings, n_filters, filter_sizes, output_dim, dropout):\n",
    "        super().__init__()\n",
    "\n",
    "        embedding_dim = pretrained_embeddings.shape[1] # Extract the embedding dimension from the pretrained embeddings\n",
    "\n",
    "        self.embedding = nn.Embedding.from_pretrained(pretrained_embeddings)\n",
    "        self.convs = nn.ModuleList([nn.Conv2d(in_channels=1, out_channels=n_filters, kernel_size=(fs, embedding_dim)) for fs in filter_sizes])\n",
    "        self.fc = nn.Linear(len(filter_sizes) * n_filters, output_dim)\n",
    "        self.dropout = nn.Dropout(dropout)\n",
    "\n",
    "    def forward(self, text):\n",
    "        # text = [batch size, sent len]\n",
    "        embedded = self.embedding(text).unsqueeze(1)\n",
    "        # embedded = [batch size, 1, sent len, emb dim]\n",
    "        conved = [nn.ReLU()(conv(embedded)).squeeze(3) for conv in self.convs]\n",
    "        # conved_n = [batch size, n_filters, sent len - filter_sizes[n] + 1]\n",
    "        pooled = [nn.MaxPool1d(conv.shape[2])(conv).squeeze(2) for conv in conved]\n",
    "        # pooled_n = [batch size, n_filters]\n",
    "        cat = self.dropout(torch.cat(pooled, dim=1))\n",
    "        # cat = [batch size, n_filters * len(filter_sizes)]\n",
    "        return self.fc(cat)\n",
    "\n"
   ]
  },
  {
   "cell_type": "code",
   "execution_count": 9,
   "metadata": {},
   "outputs": [
    {
     "name": "stdout",
     "output_type": "stream",
     "text": [
      "data/all/kaggle1/badjs/ba6349fc4dae95c44bae9734389a33d5772da2d5371d0ea67523259b0ff684d4: Line 513: Unexpected token ILLEGAL\n",
      "data/all/kaggle1/badjs/7b5c44ef97e427f3773a139d12bbb9b9cfaf8b3d33e646d32d935c35201b3f51: Line 170: Unexpected token ILLEGAL\n",
      "data/all/kaggle1/badjs/08429caebcd57417c6cda0025dec858fb06f77d6cacf406076546dc6477d04e3: Line 27: Unexpected token ILLEGAL\n",
      "data/all/kaggle1/badjs/b27b8e73e8ff706b91ea9b951eb0d22766abeab62ba8463e17b95e2572dd6513: Line 476: Unexpected token ILLEGAL\n",
      "data/all/kaggle1/badjs/be607a8a2a03016bfab343b67bf6e297f50d79227c8ae9f4c89b722d81ea00db: Line 4: Unexpected token ILLEGAL\n",
      "data/all/kaggle1/badjs/f2027862d050608be1ca74fd5137cf0d687c8450c7d12c772871a32b1e5aa7a0: Line 513: Unexpected token ILLEGAL\n",
      "data/all/kaggle1/badjs/f2af5d1d964ccac03c6ae66d419996cb34c93b9d2917d1987b3bf86b78281ae7: Line 170: Unexpected token ILLEGAL\n",
      "data/all/kaggle1/badjs/accbdefcd7ef59c63098ba69864c4b8272312814a475d06ccf8f9e1ac84b4faf: Line 513: Unexpected token ILLEGAL\n",
      "data/all/kaggle1/goodjs/bf5880532b79991827e9c8c11a93ab7fc46c20c0ca3e0edd439548f6803320dc: Line 2: Unexpected token ILLEGAL\n",
      "data/all/kaggle1/goodjs/c4b6e36d8daa106d4d15e19184f5928d7a12eef394b9407a4e51280d03908c89: Line 5: Unexpected token ILLEGAL\n",
      "data/all/kaggle1/goodjs/75afd1ec43c8cda02f38868df48759471a94e6e02e0eb7f234a165f988a4e39e: Line 2: Unexpected token ILLEGAL\n",
      "data/all/kaggle1/goodjs/76e42d2ae873c57e7310f93ae17fcf94984e1fd13b55e74376b55f79b6860ba5: Line 138: Unexpected token ILLEGAL\n",
      "data/all/kaggle1/goodjs/30189c1be37b91928a588a2b0dc5735c67cd006758f2fd933634c0a536ef867d: Line 2: Unexpected token ILLEGAL\n",
      "data/all/kaggle1/goodjs/f8ad2d8c34781c9e37af8348e5251cb4ee4683606f661bb8373ff6f3fd4e2f95: Line 317: Unexpected token ILLEGAL\n",
      "data/all/kaggle1/goodjs/1467b5a656e08f39b34e449e210705056ba59eac3100182dce5dc78edcff63ab: Line 380: Unexpected token ILLEGAL\n",
      "data/all/kaggle1/goodjs/983c31be5574e1172dfd6841472266685e1889cd08c6fe61ecb711b51deebdfa: Line 931: Unexpected token ILLEGAL\n",
      "data/all/kaggle1/goodjs/b12d6c3633935b3f97335bbd6e264cdfc31b35cb77ce7b4c768cf3efde9a6ffe: Line 2: Unexpected token ILLEGAL\n",
      "data/all/kaggle1/goodjs/0d957cce8c3cd108da1991015fe0a982c652881f1f4d40ae59c7e945097215f5: Line 2: Unexpected token ILLEGAL\n",
      "data/all/kaggle1/goodjs/8f65ee281ab8bd0a363a5cd006452a6ad158485424a0db64750b4787c4421dc2: Line 130: Unexpected token ILLEGAL\n",
      "data/all/kaggle1/goodjs/f15e14dc5815e039f7c7ab2e8d89ad0a1df47a7a785b237c742309b8c57a6403: Line 15: Unexpected token ILLEGAL\n",
      "data/all/kaggle1/goodjs/0fad01c830214c0308b8e38f0e513bd2f3a2efeae7c151d6c46f4a25fed956f5: Line 2: Unexpected token ILLEGAL\n",
      "data/all/kaggle1/goodjs/21b6da9f477ea9bc86206985f80909d885c5fb961f9783376743f528771c879f: Line 585: Unexpected token ILLEGAL\n",
      "data/all/kaggle1/goodjs/db8c79f6b650aeb7b136a887df9cd5d929e216897df50610524f4ab81733f64b: Line 2: Unexpected token ILLEGAL\n",
      "data/all/kaggle1/goodjs/c2fca97b425a906964818f3f959306ad6a1cc46c9624b99e560079674ee6fd11: Line 107: Unexpected token ILLEGAL\n",
      "data/all/kaggle1/goodjs/045ecf812b2e8ab82081e9bf4ae43eef114a30faa6c24c88d23307cdb8e4fa68: Line 47: Unexpected token ILLEGAL\n",
      "data/all/kaggle1/goodjs/5e663ddaa063d3f337bbbc9284ced576c47f949c33beff3813f6639ae5998d31: Line 2: Unexpected token ILLEGAL\n",
      "data/all/kaggle1/goodjs/239ad7c7c3346d32703d4846db08b9bce2abbc11a718c11dc38cd9d9ad8e0711: Line 14: Unexpected token ILLEGAL\n",
      "data/all/kaggle1/goodjs/2a0d72e77c604a29ce6e91d628c60d5982a250aa81089f843584c8f57dbb2177: Line 2: Unexpected token ILLEGAL\n",
      "data/all/kaggle1/goodjs/b2e97fd2445d0222d6bcfd2caeb6576c714307171f1e92580df0e58571bb551d: Line 2: Unexpected token ILLEGAL\n",
      "data/all/kaggle1/goodjs/b30365137ec39a304acea4e2539bf7425bb209cccda22c3b87ddd36425455bd3: Line 204: Unexpected token ILLEGAL\n",
      "data/all/kaggle1/goodjs/d40a476401c8737fb68b337e089a8776eb0d4787b3217ee07409d4088dc9f6ce: Line 2: Unexpected token ILLEGAL\n"
     ]
    }
   ],
   "source": [
    "from gensim.models import Word2Vec\n",
    "\n",
    "def get_token_type(corpus):\n",
    "    codes = []\n",
    "    for code in corpus.get_texts():\n",
    "        codes.append([token[0] for token in code.tokens])\n",
    "    return codes\n",
    "\n",
    "# Train Word2Vec model\n",
    "model_w2v = Word2Vec(sentences=get_token_type(corpus), vector_size=100, window=5, min_count=1, workers=4)\n",
    "\n",
    "# Create a vocabulary mapping and an embedding matrix\n",
    "vocab = {word: index for index, word in enumerate(model_w2v.wv.index_to_key)}\n",
    "embedding_matrix = torch.FloatTensor(model_w2v.wv.vectors)\n",
    "\n",
    "def encode_and_pad(tokens, vocab, max_length):\n",
    "    encoded = [vocab[token] for token in tokens if token in vocab]\n",
    "    padded = encoded + [0] * (max_length - len(encoded))\n",
    "    return torch.LongTensor(padded)\n"
   ]
  },
  {
   "cell_type": "code",
   "execution_count": 10,
   "metadata": {},
   "outputs": [
    {
     "name": "stdout",
     "output_type": "stream",
     "text": [
      "data/all/kaggle1/badjs/ba6349fc4dae95c44bae9734389a33d5772da2d5371d0ea67523259b0ff684d4: Line 513: Unexpected token ILLEGAL\n",
      "data/all/kaggle1/badjs/7b5c44ef97e427f3773a139d12bbb9b9cfaf8b3d33e646d32d935c35201b3f51: Line 170: Unexpected token ILLEGAL\n",
      "data/all/kaggle1/badjs/08429caebcd57417c6cda0025dec858fb06f77d6cacf406076546dc6477d04e3: Line 27: Unexpected token ILLEGAL\n",
      "data/all/kaggle1/badjs/b27b8e73e8ff706b91ea9b951eb0d22766abeab62ba8463e17b95e2572dd6513: Line 476: Unexpected token ILLEGAL\n",
      "data/all/kaggle1/badjs/be607a8a2a03016bfab343b67bf6e297f50d79227c8ae9f4c89b722d81ea00db: Line 4: Unexpected token ILLEGAL\n",
      "data/all/kaggle1/badjs/f2027862d050608be1ca74fd5137cf0d687c8450c7d12c772871a32b1e5aa7a0: Line 513: Unexpected token ILLEGAL\n",
      "data/all/kaggle1/badjs/f2af5d1d964ccac03c6ae66d419996cb34c93b9d2917d1987b3bf86b78281ae7: Line 170: Unexpected token ILLEGAL\n",
      "data/all/kaggle1/badjs/accbdefcd7ef59c63098ba69864c4b8272312814a475d06ccf8f9e1ac84b4faf: Line 513: Unexpected token ILLEGAL\n",
      "data/all/kaggle1/goodjs/bf5880532b79991827e9c8c11a93ab7fc46c20c0ca3e0edd439548f6803320dc: Line 2: Unexpected token ILLEGAL\n",
      "data/all/kaggle1/goodjs/c4b6e36d8daa106d4d15e19184f5928d7a12eef394b9407a4e51280d03908c89: Line 5: Unexpected token ILLEGAL\n",
      "data/all/kaggle1/goodjs/75afd1ec43c8cda02f38868df48759471a94e6e02e0eb7f234a165f988a4e39e: Line 2: Unexpected token ILLEGAL\n",
      "data/all/kaggle1/goodjs/76e42d2ae873c57e7310f93ae17fcf94984e1fd13b55e74376b55f79b6860ba5: Line 138: Unexpected token ILLEGAL\n",
      "data/all/kaggle1/goodjs/30189c1be37b91928a588a2b0dc5735c67cd006758f2fd933634c0a536ef867d: Line 2: Unexpected token ILLEGAL\n",
      "data/all/kaggle1/goodjs/f8ad2d8c34781c9e37af8348e5251cb4ee4683606f661bb8373ff6f3fd4e2f95: Line 317: Unexpected token ILLEGAL\n",
      "data/all/kaggle1/goodjs/1467b5a656e08f39b34e449e210705056ba59eac3100182dce5dc78edcff63ab: Line 380: Unexpected token ILLEGAL\n",
      "data/all/kaggle1/goodjs/983c31be5574e1172dfd6841472266685e1889cd08c6fe61ecb711b51deebdfa: Line 931: Unexpected token ILLEGAL\n",
      "data/all/kaggle1/goodjs/b12d6c3633935b3f97335bbd6e264cdfc31b35cb77ce7b4c768cf3efde9a6ffe: Line 2: Unexpected token ILLEGAL\n",
      "data/all/kaggle1/goodjs/0d957cce8c3cd108da1991015fe0a982c652881f1f4d40ae59c7e945097215f5: Line 2: Unexpected token ILLEGAL\n",
      "data/all/kaggle1/goodjs/8f65ee281ab8bd0a363a5cd006452a6ad158485424a0db64750b4787c4421dc2: Line 130: Unexpected token ILLEGAL\n",
      "data/all/kaggle1/goodjs/f15e14dc5815e039f7c7ab2e8d89ad0a1df47a7a785b237c742309b8c57a6403: Line 15: Unexpected token ILLEGAL\n",
      "data/all/kaggle1/goodjs/0fad01c830214c0308b8e38f0e513bd2f3a2efeae7c151d6c46f4a25fed956f5: Line 2: Unexpected token ILLEGAL\n",
      "data/all/kaggle1/goodjs/21b6da9f477ea9bc86206985f80909d885c5fb961f9783376743f528771c879f: Line 585: Unexpected token ILLEGAL\n",
      "data/all/kaggle1/goodjs/db8c79f6b650aeb7b136a887df9cd5d929e216897df50610524f4ab81733f64b: Line 2: Unexpected token ILLEGAL\n",
      "data/all/kaggle1/goodjs/c2fca97b425a906964818f3f959306ad6a1cc46c9624b99e560079674ee6fd11: Line 107: Unexpected token ILLEGAL\n",
      "data/all/kaggle1/goodjs/045ecf812b2e8ab82081e9bf4ae43eef114a30faa6c24c88d23307cdb8e4fa68: Line 47: Unexpected token ILLEGAL\n",
      "data/all/kaggle1/goodjs/5e663ddaa063d3f337bbbc9284ced576c47f949c33beff3813f6639ae5998d31: Line 2: Unexpected token ILLEGAL\n",
      "data/all/kaggle1/goodjs/239ad7c7c3346d32703d4846db08b9bce2abbc11a718c11dc38cd9d9ad8e0711: Line 14: Unexpected token ILLEGAL\n",
      "data/all/kaggle1/goodjs/2a0d72e77c604a29ce6e91d628c60d5982a250aa81089f843584c8f57dbb2177: Line 2: Unexpected token ILLEGAL\n",
      "data/all/kaggle1/goodjs/b2e97fd2445d0222d6bcfd2caeb6576c714307171f1e92580df0e58571bb551d: Line 2: Unexpected token ILLEGAL\n",
      "data/all/kaggle1/goodjs/b30365137ec39a304acea4e2539bf7425bb209cccda22c3b87ddd36425455bd3: Line 204: Unexpected token ILLEGAL\n",
      "data/all/kaggle1/goodjs/d40a476401c8737fb68b337e089a8776eb0d4787b3217ee07409d4088dc9f6ce: Line 2: Unexpected token ILLEGAL\n"
     ]
    },
    {
     "name": "stderr",
     "output_type": "stream",
     "text": [
      "/tmp/ipykernel_2182236/1291262144.py:6: UserWarning: To copy construct from a tensor, it is recommended to use sourceTensor.clone().detach() or sourceTensor.clone().detach().requires_grad_(True), rather than torch.tensor(sourceTensor).\n",
      "  self.labels = torch.tensor(labels, dtype=torch.long)\n"
     ]
    }
   ],
   "source": [
    "from torch.utils.data import DataLoader, Dataset\n",
    "\n",
    "class CodeSnippetDataset(Dataset):\n",
    "    def __init__(self, tokens, labels, vocab, max_length):\n",
    "        self.samples = [encode_and_pad(token, vocab, max_length) for token in tokens]\n",
    "        self.labels = torch.tensor(labels, dtype=torch.long)\n",
    "\n",
    "    def __len__(self):\n",
    "        return len(self.samples)\n",
    "\n",
    "    def __getitem__(self, index):\n",
    "        return self.samples[index], self.labels[index]\n",
    "\n",
    "# Define a max_length based on your data\n",
    "max_length = 200\n",
    "\n",
    "# Define your X and Y data\n",
    "tokens = [code_snippet.tokens for code_snippet in corpus.get_texts()]\n",
    "Y = torch.tensor(Y) # Your labels\n",
    "\n",
    "# Convert tokens to dataset\n",
    "dataset = CodeSnippetDataset(tokens, Y, vocab, max_length)\n",
    "\n",
    "# Split into train and test (or use your existing split)\n",
    "train_dataset, test_dataset = torch.utils.data.random_split(dataset, [int(len(dataset) * 0.8), len(dataset) - int(len(dataset) * 0.8)])\n",
    "\n",
    "train_loader = DataLoader(train_dataset, batch_size=32, shuffle=True)\n",
    "test_loader = DataLoader(test_dataset, batch_size=32, shuffle=False)"
   ]
  },
  {
   "cell_type": "code",
   "execution_count": 11,
   "metadata": {},
   "outputs": [
    {
     "name": "stdout",
     "output_type": "stream",
     "text": [
      "Epoch: 1, Train Accuracy: 0.4917, Val Accuracy: 0.3351\n",
      "Epoch: 2, Train Accuracy: 0.4979, Val Accuracy: 0.3351\n",
      "Epoch: 3, Train Accuracy: 0.4750, Val Accuracy: 0.3351\n",
      "Epoch: 4, Train Accuracy: 0.4424, Val Accuracy: 0.6649\n",
      "Epoch: 5, Train Accuracy: 0.4660, Val Accuracy: 0.3351\n",
      "Epoch: 6, Train Accuracy: 0.4965, Val Accuracy: 0.3351\n",
      "Epoch: 7, Train Accuracy: 0.4750, Val Accuracy: 0.6649\n",
      "Epoch: 8, Train Accuracy: 0.5271, Val Accuracy: 0.3351\n",
      "Epoch: 9, Train Accuracy: 0.5132, Val Accuracy: 0.3351\n",
      "Epoch: 10, Train Accuracy: 0.4778, Val Accuracy: 0.6649\n"
     ]
    },
    {
     "data": {
      "image/png": "[encoded data removed]",
      "text/plain": [
       "<Figure size 640x480 with 1 Axes>"
      ]
     },
     "metadata": {},
     "output_type": "display_data"
    }
   ],
   "source": [
    "# Hyperparameters\n",
    "n_filters = 100\n",
    "filter_sizes = [2, 3, 4, 5]\n",
    "output_dim = 2 # Number of classes\n",
    "dropout = 0.5\n",
    "\n",
    "# Create the CNN model\n",
    "model = CNNTextClassifier(embedding_matrix, n_filters, filter_sizes, output_dim, dropout)\n",
    "\n",
    "def init_weights(m):\n",
    "    if isinstance(m, nn.Conv2d) or isinstance(m, nn.Linear):\n",
    "        torch.nn.init.xavier_uniform_(m.weight.data)\n",
    "\n",
    "model.apply(init_weights)\n",
    "\n",
    "# Define loss function and optimizer\n",
    "lr = 0.0001 # Try different values like 0.0001, 0.001, 0.01, etc.\n",
    "optimizer = torch.optim.Adam(model.parameters(), lr=lr)\n",
    "criterion = nn.CrossEntropyLoss()\n",
    "\n",
    "def calculate_accuracy(predictions, labels):\n",
    "    preds = torch.argmax(predictions, dim=1)\n",
    "    correct = (preds == labels).float()\n",
    "    return correct.sum() / len(correct)\n",
    "\n",
    "# Tracking accuracy\n",
    "train_accuracies = []\n",
    "val_accuracies = []\n",
    "\n",
    "epochs = 10\n",
    "for epoch in range(epochs):\n",
    "    model.train()\n",
    "    train_accuracy = []\n",
    "    for batch in train_loader:\n",
    "        text, labels = batch\n",
    "        labels = labels.long()\n",
    "        optimizer.zero_grad()\n",
    "        predictions = model(text)\n",
    "        loss = criterion(predictions, labels)\n",
    "        loss.backward()\n",
    "        optimizer.step()\n",
    "        train_accuracy.append(calculate_accuracy(predictions, labels))\n",
    "    train_accuracies.append(sum(train_accuracy) / len(train_accuracy))\n",
    "\n",
    "    # Validation accuracy\n",
    "    model.eval()\n",
    "    val_accuracy = []\n",
    "    with torch.no_grad():\n",
    "        for batch in test_loader:\n",
    "            text, labels = batch\n",
    "            labels = labels.long()\n",
    "            predictions = model(text)\n",
    "            val_accuracy.append(calculate_accuracy(predictions, labels))\n",
    "    val_accuracies.append(sum(val_accuracy) / len(val_accuracy))\n",
    "\n",
    "    print(f'Epoch: {epoch+1}, Train Accuracy: {train_accuracies[-1]:.4f}, Val Accuracy: {val_accuracies[-1]:.4f}')\n",
    "\n",
    "# Plotting accuracy\n",
    "plt.plot(train_accuracies, label='Train Accuracy')\n",
    "plt.plot(val_accuracies, label='Validation Accuracy')\n",
    "plt.xlabel('Epoch')\n",
    "plt.ylabel('Accuracy')\n",
    "plt.legend()\n",
    "plt.show()"
   ]
  }
 ],
 "metadata": {
  "kernelspec": {
   "display_name": "Python 3",
   "language": "python",
   "name": "python3"
  },
  "language_info": {
   "codemirror_mode": {
    "name": "ipython",
    "version": 3
   },
   "file_extension": ".py",
   "mimetype": "text/x-python",
   "name": "python",
   "nbconvert_exporter": "python",
   "pygments_lexer": "ipython3",
   "version": "3.10.12"
  },
  "orig_nbformat": 4
 },
 "nbformat": 4,
 "nbformat_minor": 2
}
