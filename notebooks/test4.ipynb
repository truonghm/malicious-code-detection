{
 "cells": [
  {
   "cell_type": "code",
   "execution_count": 1,
   "metadata": {},
   "outputs": [],
   "source": [
    "import torch\n",
    "import torch.nn as nn\n",
    "import torch.optim as optim\n",
    "from torch.utils.data import Dataset, DataLoader\n",
    "from sklearn.preprocessing import MinMaxScaler\n",
    "\n",
    "from sklearn.feature_extraction.text import HashingVectorizer, TfidfTransformer\n",
    "from sklearn.pipeline import Pipeline\n",
    "from sklearn.metrics import accuracy_score, confusion_matrix, classification_report\n",
    "\n",
    "from torch.utils.data import IterableDataset\n",
    "import dask.dataframe as dd\n",
    "from dask.diagnostics import ProgressBar"
   ]
  },
  {
   "cell_type": "code",
   "execution_count": 2,
   "metadata": {},
   "outputs": [],
   "source": [
    "import os"
   ]
  },
  {
   "cell_type": "code",
   "execution_count": 3,
   "metadata": {},
   "outputs": [
    {
     "name": "stdout",
     "output_type": "stream",
     "text": [
      "/home/truonghm/learning/m1-internship/malicious-code-detection\n"
     ]
    }
   ],
   "source": [
    "from dotenv import load_dotenv\n",
    "load_dotenv()\n",
    "\n",
    "os.chdir(os.getenv(\"PROJECT_ROOT_DIR\"))\n",
    "print(os.getcwd())"
   ]
  },
  {
   "cell_type": "code",
   "execution_count": 4,
   "metadata": {},
   "outputs": [],
   "source": [
    "%load_ext autoreload\n",
    "%autoreload 2"
   ]
  },
  {
   "cell_type": "code",
   "execution_count": 5,
   "metadata": {},
   "outputs": [],
   "source": [
    "class Config:\n",
    "\n",
    "    BATCH_SIZE = 128\n",
    "    DEVICE =  torch.device(\"cuda:0\" if torch.cuda.is_available() else \"cpu\")\n",
    "    LEARNING_RATE = 2e-5\n",
    "    EPOCHS = 20\n",
    "    TEST_PATH = 'data/exp/kaggle12_test_data_word2vec_by_val.parquet'\n",
    "    TRAIN_PATH = 'data/exp/kaggle12_train_data_word2vec_by_val.parquet'"
   ]
  },
  {
   "cell_type": "code",
   "execution_count": 6,
   "metadata": {},
   "outputs": [],
   "source": [
    "\n",
    "\n",
    "import numpy as np\n",
    "\n",
    "\n",
    "class JavaScriptData(IterableDataset):\n",
    "    def __init__(self, parquet_path, chunk_size=1000, limit=None):\n",
    "        super(JavaScriptData, self).__init__()\n",
    "        self.parquet_path = parquet_path\n",
    "        self.chunk_size = chunk_size\n",
    "        self.limit = limit\n",
    "\n",
    "    def read_in_chunks(self):\n",
    "        with ProgressBar():\n",
    "            ddf = dd.read_parquet(self.parquet_path)\n",
    "            n = len(ddf)\n",
    "\n",
    "        if self.limit is not None:\n",
    "            n = min(n, self.limit)\n",
    "\n",
    "        for i in range(0, n, self.chunk_size):\n",
    "            with ProgressBar():\n",
    "                # The following line ensures that we only read up to self.limit rows\n",
    "                end_row = min(i + self.chunk_size - 1, self.limit - 1) if self.limit is not None else i + self.chunk_size - 1\n",
    "                chunk = ddf.loc[i:end_row].compute()\n",
    "            yield chunk\n",
    "\n",
    "    def __iter__(self):\n",
    "        # Read data and yield batches\n",
    "        for chunk in self.read_in_chunks():\n",
    "            outputs = torch.tensor(chunk.drop(columns=['label']).values, dtype=torch.float32)\n",
    "            labels = torch.tensor(chunk['label'].values, dtype=torch.long)\n",
    "            for output, label in zip(outputs, labels):\n",
    "                yield output, label\n",
    "\n"
   ]
  },
  {
   "cell_type": "code",
   "execution_count": 7,
   "metadata": {},
   "outputs": [],
   "source": [
    "train_dataset = JavaScriptData(Config.TRAIN_PATH, chunk_size=5000, limit=5000)\n",
    "train_loader = DataLoader(train_dataset, batch_size=Config.BATCH_SIZE, num_workers=0)\n",
    "\n",
    "test_dataset = JavaScriptData(Config.TEST_PATH, chunk_size=5000, limit=5000)\n",
    "test_loader = DataLoader(test_dataset, batch_size=Config.BATCH_SIZE, num_workers=0)"
   ]
  },
  {
   "cell_type": "code",
   "execution_count": 8,
   "metadata": {},
   "outputs": [
    {
     "name": "stdout",
     "output_type": "stream",
     "text": [
      "[########################################] | 100% Completed | 102.03 ms\n",
      "[########################################] | 100% Completed | 101.15 ms\n",
      "torch.Size([100, 100])\n",
      "torch.Size([100])\n",
      "[########################################] | 100% Completed | 101.46 ms\n",
      "[########################################] | 100% Completed | 101.95 ms\n",
      "torch.Size([128, 100])\n",
      "torch.Size([128])\n",
      "torch.Size([128, 100])\n",
      "torch.Size([128])\n",
      "torch.Size([128, 100])\n",
      "torch.Size([128])\n",
      "torch.Size([128, 100])\n",
      "torch.Size([128])\n",
      "torch.Size([128, 100])\n",
      "torch.Size([128])\n",
      "torch.Size([128, 100])\n",
      "torch.Size([128])\n",
      "torch.Size([128, 100])\n",
      "torch.Size([128])\n",
      "torch.Size([104, 100])\n",
      "torch.Size([104])\n"
     ]
    }
   ],
   "source": [
    "for outputs, labels in test_loader:\n",
    "\tprint(outputs.shape)\n",
    "\tprint(labels.shape)\n",
    "\n",
    "for outputs, labels in train_loader:\n",
    "\tprint(outputs.shape)\n",
    "\tprint(labels.shape)"
   ]
  },
  {
   "cell_type": "code",
   "execution_count": 9,
   "metadata": {},
   "outputs": [],
   "source": [
    "import torch.nn.functional as F\n",
    "\n",
    "class BinaryClassifier(nn.Module):\n",
    "    def __init__(self):\n",
    "        super(BinaryClassifier, self).__init__()\n",
    "        self.fc1 = nn.Linear(100, 256)  # 100 input features\n",
    "        self.fc2 = nn.Linear(256, 64)\n",
    "        self.fc3 = nn.Linear(64, 2)  # 2 output classes: malicious or benign\n",
    "\n",
    "    def forward(self, x):\n",
    "        x = F.relu(self.fc1(x))\n",
    "        x = F.relu(self.fc2(x))\n",
    "        x = self.fc3(x)\n",
    "        return x\n",
    "\n",
    "# Initialize the model\n",
    "model = BinaryClassifier()"
   ]
  },
  {
   "cell_type": "code",
   "execution_count": 10,
   "metadata": {},
   "outputs": [
    {
     "name": "stdout",
     "output_type": "stream",
     "text": [
      "[########################################] | 100% Completed | 102.04 ms\n",
      "[########################################] | 100% Completed | 101.87 ms\n",
      "[########################################] | 100% Completed | 101.28 ms\n",
      "[########################################] | 100% Completed | 101.91 ms\n",
      "[########################################] | 100% Completed | 101.41 ms\n",
      "[########################################] | 100% Completed | 102.68 ms\n",
      "[########################################] | 100% Completed | 101.45 ms\n",
      "[########################################] | 100% Completed | 102.07 ms\n",
      "[########################################] | 100% Completed | 101.77 ms\n",
      "[########################################] | 100% Completed | 101.99 ms\n",
      "[########################################] | 100% Completed | 101.15 ms\n",
      "[########################################] | 100% Completed | 102.10 ms\n",
      "[########################################] | 100% Completed | 101.26 ms\n",
      "[########################################] | 100% Completed | 102.43 ms\n",
      "[########################################] | 100% Completed | 101.20 ms\n",
      "[########################################] | 100% Completed | 101.18 ms\n",
      "[########################################] | 100% Completed | 101.05 ms\n",
      "[########################################] | 100% Completed | 102.80 ms\n",
      "[########################################] | 100% Completed | 101.72 ms\n",
      "[########################################] | 100% Completed | 101.45 ms\n",
      "[########################################] | 100% Completed | 101.45 ms\n",
      "[########################################] | 100% Completed | 101.30 ms\n",
      "[########################################] | 100% Completed | 101.66 ms\n",
      "[########################################] | 100% Completed | 101.98 ms\n",
      "[########################################] | 100% Completed | 101.36 ms\n",
      "[########################################] | 100% Completed | 101.27 ms\n",
      "[########################################] | 100% Completed | 101.21 ms\n",
      "[########################################] | 100% Completed | 102.71 ms\n",
      "[########################################] | 100% Completed | 101.15 ms\n",
      "[########################################] | 100% Completed | 101.37 ms\n",
      "[########################################] | 100% Completed | 101.32 ms\n",
      "[########################################] | 100% Completed | 101.31 ms\n",
      "[########################################] | 100% Completed | 101.67 ms\n",
      "[########################################] | 100% Completed | 101.31 ms\n",
      "[########################################] | 100% Completed | 101.44 ms\n",
      "[########################################] | 100% Completed | 101.79 ms\n",
      "[########################################] | 100% Completed | 102.09 ms\n",
      "[########################################] | 100% Completed | 101.36 ms\n",
      "[########################################] | 100% Completed | 101.24 ms\n",
      "[########################################] | 100% Completed | 101.59 ms\n",
      "[########################################] | 100% Completed | 101.70 ms\n",
      "[########################################] | 100% Completed | 101.61 ms\n",
      "Accuracy: 50.0%\n"
     ]
    }
   ],
   "source": [
    "# Assuming that you've already created train_loader and test_loader\n",
    "criterion = nn.CrossEntropyLoss()\n",
    "optimizer = torch.optim.Adam(model.parameters(), lr=Config.LEARNING_RATE)\n",
    "\n",
    "# Training Loop\n",
    "for epoch in range(Config.EPOCHS):\n",
    "    for inputs, labels in train_loader:\n",
    "        # Forward pass\n",
    "        outputs = model(inputs)\n",
    "        \n",
    "        # Compute loss\n",
    "        loss = criterion(outputs, labels)\n",
    "        \n",
    "        # Zero gradients, backward pass, optimizer step\n",
    "        optimizer.zero_grad()\n",
    "        loss.backward()\n",
    "        optimizer.step()\n",
    "\n",
    "# Evaluation Loop\n",
    "correct = 0\n",
    "total = 0\n",
    "y_true = []\n",
    "y_pred = []\n",
    "\n",
    "with torch.no_grad():\n",
    "    for inputs, labels in test_loader:\n",
    "        outputs = model(inputs)\n",
    "        _, predicted = torch.max(outputs.data, 1)\n",
    "        \n",
    "        y_true.extend(labels.tolist())\n",
    "        y_pred.extend(predicted.tolist())\n",
    "        \n",
    "        total += labels.size(0)\n",
    "        correct += (predicted == labels).sum().item()\n",
    "\n",
    "accuracy = 100 * correct / total\n",
    "print(f'Accuracy: {accuracy}%')"
   ]
  },
  {
   "cell_type": "code",
   "execution_count": 11,
   "metadata": {},
   "outputs": [],
   "source": [
    "import matplotlib.pyplot as plt\n",
    "import seaborn as sns"
   ]
  },
  {
   "cell_type": "code",
   "execution_count": 12,
   "metadata": {},
   "outputs": [
    {
     "data": {
      "image/png": "[encoded data removed]",
      "text/plain": [
       "<Figure size 600x600 with 1 Axes>"
      ]
     },
     "metadata": {},
     "output_type": "display_data"
    },
    {
     "name": "stdout",
     "output_type": "stream",
     "text": [
      "               precision    recall  f1-score   support\n",
      "\n",
      "non-obfuscted       0.00      0.00      0.00        50\n",
      "   obfuscated       0.50      1.00      0.67        50\n",
      "\n",
      "     accuracy                           0.50       100\n",
      "    macro avg       0.25      0.50      0.33       100\n",
      " weighted avg       0.25      0.50      0.33       100\n",
      "\n"
     ]
    },
    {
     "name": "stderr",
     "output_type": "stream",
     "text": [
      "/home/truonghm/learning/m1-internship/malicious-code-detection/.conda/m1/lib/python3.10/site-packages/sklearn/metrics/_classification.py:1469: UndefinedMetricWarning: Precision and F-score are ill-defined and being set to 0.0 in labels with no predicted samples. Use `zero_division` parameter to control this behavior.\n",
      "  _warn_prf(average, modifier, msg_start, len(result))\n",
      "/home/truonghm/learning/m1-internship/malicious-code-detection/.conda/m1/lib/python3.10/site-packages/sklearn/metrics/_classification.py:1469: UndefinedMetricWarning: Precision and F-score are ill-defined and being set to 0.0 in labels with no predicted samples. Use `zero_division` parameter to control this behavior.\n",
      "  _warn_prf(average, modifier, msg_start, len(result))\n",
      "/home/truonghm/learning/m1-internship/malicious-code-detection/.conda/m1/lib/python3.10/site-packages/sklearn/metrics/_classification.py:1469: UndefinedMetricWarning: Precision and F-score are ill-defined and being set to 0.0 in labels with no predicted samples. Use `zero_division` parameter to control this behavior.\n",
      "  _warn_prf(average, modifier, msg_start, len(result))\n"
     ]
    }
   ],
   "source": [
    "confusion = confusion_matrix(y_true, y_pred)\n",
    "\n",
    "plt.subplots(figsize=(6, 6))\n",
    "sns.set(font_scale=1.4)  # for label size\n",
    "sns.heatmap(confusion, annot=True, fmt=\".0f\", annot_kws={\"size\": 16}, cbar=False)  # font size\n",
    "plt.xlabel(\"Target (true) Class\")\n",
    "plt.ylabel(\"Output (predicted) class\")\n",
    "plt.title(\"Confusion Matrix\")\n",
    "plt.show()\n",
    "\n",
    "print(classification_report(y_true, y_pred, target_names=[\"non-obfuscted\", \"obfuscated\"]))"
   ]
  }
 ],
 "metadata": {
  "kernelspec": {
   "display_name": "Python 3",
   "language": "python",
   "name": "python3"
  },
  "language_info": {
   "codemirror_mode": {
    "name": "ipython",
    "version": 3
   },
   "file_extension": ".py",
   "mimetype": "text/x-python",
   "name": "python",
   "nbconvert_exporter": "python",
   "pygments_lexer": "ipython3",
   "version": "3.10.12"
  },
  "orig_nbformat": 4
 },
 "nbformat": 4,
 "nbformat_minor": 2
}
