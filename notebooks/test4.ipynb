{
 "cells": [
  {
   "cell_type": "code",
   "execution_count": 1,
   "metadata": {},
   "outputs": [
    {
     "name": "stdout",
     "output_type": "stream",
     "text": [
      "{\"key\":\"19bf4e77-a464-43d6-8c17-4eb7bc29ad2a\",\"signature_scheme\":\"hmac-sha256\",\"transport\":\"tcp\",\"ip\":\"127.0.0.1\",\"hb_port\":9048,\"control_port\":9049,\"shell_port\":9050,\"stdin_port\":9051,\"iopub_port\":9052,\"kernel_name\":\"pythonjvsc74a57bd06e3d6eaeb94a86ff1e5b95ef5fac2af6d935bbec5a3c761c875ea2ca257626c9\"}\n",
      "\n",
      "Paste the above JSON into a file, and connect with:\n",
      "    $> jupyter <app> --existing <file>\n",
      "or, if you are local, you can connect with just:\n",
      "    $> jupyter <app> --existing kernel-v2-68959kljEtHfVH6pM.json\n",
      "or even just:\n",
      "    $> jupyter <app> --existing\n",
      "if this is the most recent Jupyter kernel you have started.\n"
     ]
    }
   ],
   "source": [
    "%connect_info"
   ]
  },
  {
   "cell_type": "code",
   "execution_count": 1,
   "metadata": {},
   "outputs": [],
   "source": [
    "import torch\n",
    "import torch.nn as nn\n",
    "import torch.optim as optim\n",
    "from torch.utils.data import Dataset, DataLoader\n",
    "from sklearn.preprocessing import MinMaxScaler\n",
    "\n",
    "from sklearn.feature_extraction.text import HashingVectorizer, TfidfTransformer\n",
    "from sklearn.pipeline import Pipeline\n",
    "from sklearn.metrics import accuracy_score, confusion_matrix, classification_report\n",
    "\n",
    "from torch.utils.data import IterableDataset, Dataset\n",
    "import dask.dataframe as dd\n",
    "from dask.diagnostics import ProgressBar"
   ]
  },
  {
   "cell_type": "code",
   "execution_count": 2,
   "metadata": {},
   "outputs": [],
   "source": [
    "import os"
   ]
  },
  {
   "cell_type": "code",
   "execution_count": 3,
   "metadata": {},
   "outputs": [
    {
     "name": "stdout",
     "output_type": "stream",
     "text": [
      "/root/malicious-code-detection\n"
     ]
    }
   ],
   "source": [
    "from dotenv import load_dotenv\n",
    "load_dotenv()\n",
    "\n",
    "os.chdir(os.getenv(\"PROJECT_ROOT_DIR\"))\n",
    "print(os.getcwd())"
   ]
  },
  {
   "cell_type": "code",
   "execution_count": 4,
   "metadata": {},
   "outputs": [],
   "source": [
    "%load_ext autoreload\n",
    "%autoreload 2"
   ]
  },
  {
   "cell_type": "code",
   "execution_count": 5,
   "metadata": {},
   "outputs": [],
   "source": [
    "\n",
    "import numpy as np"
   ]
  },
  {
   "cell_type": "code",
   "execution_count": 6,
   "metadata": {},
   "outputs": [],
   "source": [
    "class Config:\n",
    "\n",
    "    BATCH_SIZE = 50\n",
    "    DEVICE =  torch.device(\"cuda:0\" if torch.cuda.is_available() else \"cpu\")\n",
    "    LEARNING_RATE = 0.001\n",
    "    EPOCHS = 10\n",
    "    X_TEST_PATH = 'data/exp/test_token_vectors.npy'\n",
    "    Y_TEST_PATH = 'data/exp/test_set_labels.txt'\n",
    "    X_TRAIN_PATH = 'data/exp/train_token_vectors.npy'\n",
    "    Y_TRAIN_PATH = 'data/exp/train_set_labels.txt'\n",
    "\n",
    "\n",
    "\n",
    "\n",
    "X_train = np.load(Config.X_TRAIN_PATH)\n",
    "y_train_str = np.loadtxt(Config.Y_TRAIN_PATH, dtype=str)\n",
    "y_train = np.where(y_train_str == 'goodjs', 0.0, 1.0)\n",
    "X_test = np.load(Config.X_TEST_PATH)\n",
    "y_test_str = np.loadtxt(Config.Y_TEST_PATH, dtype=str)\n",
    "y_test = np.where(y_test_str == 'goodjs', 0.0, 1.0)\n",
    "\n",
    "class JSDataset(Dataset):\n",
    "    def __init__(self, features, labels):\n",
    "        self.features = torch.tensor(features, dtype=torch.float32)\n",
    "        self.labels = torch.tensor(labels, dtype=torch.long)\n",
    "\n",
    "    def __len__(self):\n",
    "        return len(self.labels)\n",
    "\n",
    "    def __getitem__(self, idx):\n",
    "        return self.features[idx], self.labels[idx]\n",
    "\n",
    "train_dataset = JSDataset(X_train, y_train)\n",
    "train_loader = DataLoader(train_dataset, batch_size=Config.BATCH_SIZE, num_workers=0, drop_last=True)\n",
    "\n",
    "test_dataset = JSDataset(X_test, y_test)\n",
    "test_loader = DataLoader(test_dataset, batch_size=Config.BATCH_SIZE, num_workers=0, drop_last=True)"
   ]
  },
  {
   "cell_type": "markdown",
   "metadata": {},
   "source": [
    "## Bi-LSTM"
   ]
  },
  {
   "cell_type": "code",
   "execution_count": 7,
   "metadata": {},
   "outputs": [],
   "source": [
    "class BiLSTMModel(nn.Module):\n",
    "    def __init__(self, input_dim, hidden_dim, batch_size):\n",
    "        super(BiLSTMModel, self).__init__()\n",
    "        \n",
    "        self.lstm = nn.LSTM(input_dim, hidden_dim, bidirectional=True)\n",
    "        self.hidden2label = nn.Linear(hidden_dim * 2, 2)  # 2 output classes\n",
    "        self.batch_size = batch_size\n",
    "        self.hidden_dim = hidden_dim\n",
    "        self.hidden = self.init_hidden()\n",
    "    \n",
    "    def init_hidden(self):\n",
    "        return (torch.zeros(2, self.batch_size, self.hidden_dim),\n",
    "                torch.zeros(2, self.batch_size, self.hidden_dim))\n",
    "    \n",
    "    def forward(self, x):\n",
    "        lstm_out, self.hidden = self.lstm(x, self.hidden)\n",
    "        y = self.hidden2label(lstm_out[-1])\n",
    "        return y"
   ]
  },
  {
   "cell_type": "code",
   "execution_count": 8,
   "metadata": {},
   "outputs": [],
   "source": [
    "input_dim = 100  # Assuming each word vector has 100 dimensions\n",
    "hidden_dim = 64  # LSTM hidden layer size\n",
    "batch_size = Config.BATCH_SIZE\n",
    "learning_rate = Config.LEARNING_RATE\n",
    "n_epochs = Config.EPOCHS"
   ]
  },
  {
   "cell_type": "code",
   "execution_count": 9,
   "metadata": {},
   "outputs": [],
   "source": [
    "model = BiLSTMModel(input_dim, hidden_dim, batch_size)\n",
    "criterion = nn.CrossEntropyLoss()\n",
    "optimizer = optim.Adam(model.parameters(), lr=learning_rate)"
   ]
  },
  {
   "cell_type": "code",
   "execution_count": 10,
   "metadata": {},
   "outputs": [
    {
     "name": "stdout",
     "output_type": "stream",
     "text": [
      "Accuracy: 53.644444444444446%\n"
     ]
    }
   ],
   "source": [
    "# Training Loop\n",
    "for epoch in range(n_epochs):\n",
    "    for i, (x_batch, y_batch) in enumerate(train_loader):\n",
    "        model.hidden = model.init_hidden()\n",
    "        optimizer.zero_grad()\n",
    "        \n",
    "        y_pred = model(x_batch)\n",
    "        loss = criterion(y_pred, y_batch)\n",
    "        \n",
    "        loss.backward()\n",
    "        optimizer.step()\n",
    "\n",
    "# Evaluation Loop\n",
    "correct = 0\n",
    "total = 0\n",
    "y_true = []\n",
    "y_pred = []\n",
    "\n",
    "with torch.no_grad():\n",
    "    for x_batch, y_batch in test_loader:\n",
    "        model.hidden = model.init_hidden()\n",
    "        \n",
    "        outputs = model(x_batch)\n",
    "        _, predicted = torch.max(outputs.data, 1)\n",
    "        \n",
    "        y_true.extend(y_batch.tolist())\n",
    "        y_pred.extend(predicted.tolist())\n",
    "        \n",
    "        total += y_batch.size(0)\n",
    "        correct += (predicted == y_batch).sum().item()\n",
    "\n",
    "accuracy = 100 * correct / total\n",
    "print(f'Accuracy: {accuracy}%')"
   ]
  },
  {
   "cell_type": "code",
   "execution_count": 11,
   "metadata": {},
   "outputs": [],
   "source": [
    "import matplotlib.pyplot as plt\n",
    "import seaborn as sns"
   ]
  },
  {
   "cell_type": "code",
   "execution_count": 12,
   "metadata": {},
   "outputs": [
    {
     "data": {
      "image/png": "[encoded data removed]",
      "text/plain": [
       "<Figure size 600x600 with 1 Axes>"
      ]
     },
     "metadata": {},
     "output_type": "display_data"
    },
    {
     "name": "stdout",
     "output_type": "stream",
     "text": [
      "               precision    recall  f1-score   support\n",
      "\n",
      "non-obfuscted       0.44      0.06      0.10      1028\n",
      "   obfuscated       0.54      0.94      0.69      1222\n",
      "\n",
      "     accuracy                           0.54      2250\n",
      "    macro avg       0.49      0.50      0.40      2250\n",
      " weighted avg       0.50      0.54      0.42      2250\n",
      "\n"
     ]
    }
   ],
   "source": [
    "confusion = confusion_matrix(y_true, y_pred)\n",
    "\n",
    "plt.subplots(figsize=(6, 6))\n",
    "sns.set(font_scale=1.4)  # for label size\n",
    "sns.heatmap(confusion, annot=True, fmt=\".0f\", annot_kws={\"size\": 16}, cbar=False)  # font size\n",
    "plt.xlabel(\"Target (true) Class\")\n",
    "plt.ylabel(\"Output (predicted) class\")\n",
    "plt.title(\"Confusion Matrix\")\n",
    "plt.show()\n",
    "\n",
    "print(classification_report(y_true, y_pred, target_names=[\"non-obfuscted\", \"obfuscated\"]))"
   ]
  }
 ],
 "metadata": {
  "kernelspec": {
   "display_name": "Python 3",
   "language": "python",
   "name": "python3"
  },
  "language_info": {
   "codemirror_mode": {
    "name": "ipython",
    "version": 3
   },
   "file_extension": ".py",
   "mimetype": "text/x-python",
   "name": "python",
   "nbconvert_exporter": "python",
   "pygments_lexer": "ipython3",
   "version": "3.10.12"
  },
  "orig_nbformat": 4
 },
 "nbformat": 4,
 "nbformat_minor": 2
}
