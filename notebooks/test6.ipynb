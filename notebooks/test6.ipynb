{
 "cells": [
  {
   "cell_type": "code",
   "execution_count": 1,
   "metadata": {},
   "outputs": [],
   "source": [
    "import numpy as np\n",
    "import pandas as pd\n",
    "import torch\n",
    "import torch.nn as nn\n",
    "import torch.optim as optim\n",
    "from torch.utils.data import Dataset, DataLoader\n",
    "import torchtext\n",
    "\n",
    "from torchtext.vocab import build_vocab_from_iterator\n",
    "from torch.nn.utils.rnn import pad_sequence\n",
    "import pytorch_lightning as pl\n",
    "from torch.nn.functional import binary_cross_entropy_with_logits, binary_cross_entropy\n",
    "from torchmetrics import Accuracy, F1Score\n",
    "from pytorch_lightning.callbacks import ModelCheckpoint, EarlyStopping\n",
    "\n",
    "import numpy as np\n",
    "import pandas as pd\n",
    "\n",
    "import matplotlib.pyplot as plt\n",
    "\n",
    "import fasttext"
   ]
  },
  {
   "cell_type": "code",
   "execution_count": 2,
   "metadata": {},
   "outputs": [],
   "source": [
    "from sklearn import model_selection"
   ]
  },
  {
   "cell_type": "code",
   "execution_count": 3,
   "metadata": {},
   "outputs": [],
   "source": [
    "import os"
   ]
  },
  {
   "cell_type": "code",
   "execution_count": 4,
   "metadata": {},
   "outputs": [],
   "source": [
    "import os\n",
    "os.environ[\"PYTORCH_CUDA_ALLOC_CONF\"] = \"max_split_size_mb:512\""
   ]
  },
  {
   "cell_type": "code",
   "execution_count": 5,
   "metadata": {},
   "outputs": [
    {
     "name": "stdout",
     "output_type": "stream",
     "text": [
      "/root/malicious-code-detection\n"
     ]
    }
   ],
   "source": [
    "from dotenv import load_dotenv\n",
    "load_dotenv()\n",
    "\n",
    "os.chdir(os.getenv(\"PROJECT_ROOT_DIR\"))\n",
    "print(os.getcwd())"
   ]
  },
  {
   "cell_type": "code",
   "execution_count": 7,
   "metadata": {},
   "outputs": [
    {
     "name": "stderr",
     "output_type": "stream",
     "text": [
      "Global seed set to 42\n"
     ]
    },
    {
     "data": {
      "text/plain": [
       "42"
      ]
     },
     "execution_count": 7,
     "metadata": {},
     "output_type": "execute_result"
    }
   ],
   "source": [
    "class MODEL_EVAL_METRIC:\n",
    "    accuracy = \"accuracy\"\n",
    "    f1_score = \"f1_score\"\n",
    "\n",
    "class Config:\n",
    "    VOCAB_SIZE = 0\n",
    "    BATCH_SIZE = 16\n",
    "    EMB_SIZE = 100\n",
    "    OUT_SIZE = 2\n",
    "    NUM_FOLDS = 5\n",
    "    NUM_EPOCHS = 10\n",
    "    NUM_WORKERS = 8\n",
    "    # Whether to update the pretrained embedding weights during training process\n",
    "    EMB_WT_UPDATE = True\n",
    "    DEVICE = torch.device('cuda' if torch.cuda.is_available() else 'cpu')\n",
    "    MODEL_EVAL_METRIC = MODEL_EVAL_METRIC.accuracy\n",
    "    FAST_DEV_RUN = False    \n",
    "    PATIENCE = 6    \n",
    "    IS_BIDIRECTIONAL = True\n",
    "    # model hyperparameters\n",
    "    MODEL_PARAMS = {\n",
    "        \"hidden_size\": 141, \n",
    "        \"num_layers\": 2,         \n",
    "        \"drop_out\": 0.4258,\n",
    "        \"lr\": 0.000366,\n",
    "        \"weight_decay\": 0.00001\n",
    "    }\n",
    "    X_TEST_PATH = 'data/exp/test_set_token_types_corpus.txt'\n",
    "    Y_TEST_PATH = 'data/exp/test_set_labels.txt'\n",
    "    X_TRAIN_PATH = 'data/exp/train_set_token_types_corpus.txt'\n",
    "    Y_TRAIN_PATH = 'data/exp/train_set_labels.txt' \n",
    "    \n",
    "# For results reproducibility \n",
    "# sets seeds for numpy, torch, python.random and PYTHONHASHSEED.\n",
    "pl.seed_everything(42, workers=True)"
   ]
  },
  {
   "cell_type": "code",
   "execution_count": 8,
   "metadata": {},
   "outputs": [],
   "source": [
    "def read_data(path):\n",
    "\twith open(path, \"r\") as f:\n",
    "\t\tdata = f.readlines()\n",
    "\t\tvectors = [token.split() for token in data]\n",
    "\t\treturn vectors"
   ]
  },
  {
   "cell_type": "code",
   "execution_count": 9,
   "metadata": {},
   "outputs": [],
   "source": [
    "print(\"Loading data\")\n",
    "\n",
    "X_train = read_data(Config.X_TRAIN_PATH)\n",
    "y_train_str = np.loadtxt(Config.Y_TRAIN_PATH, dtype=str)\n",
    "y_train = np.where(y_train_str == 'goodjs', 0.0, 1.0)\n",
    "\n",
    "X_test = read_data(Config.X_TEST_PATH)\n",
    "y_test_str = np.loadtxt(Config.Y_TEST_PATH, dtype=str)\n",
    "y_test = np.where(y_test_str == 'goodjs', 0.0, 1.0)\n",
    "\n",
    "df_train = pd.DataFrame({'X': X_train, 'y': y_train})\n",
    "df_train = df_train[df_train[\"X\"].apply(len) != 0]\n",
    "df_test = pd.DataFrame({'X': X_test, 'y': y_test})\n",
    "df_test = df_test[df_test[\"X\"].apply(len) != 0]"
   ]
  },
  {
   "cell_type": "code",
   "execution_count": 11,
   "metadata": {},
   "outputs": [],
   "source": [
    "def yield_tokens(df):\n",
    "    for index, row in df.iterrows():\n",
    "        yield row[\"X\"]\n",
    "\n",
    "print(\"Building vocab\")\n",
    "ast_vocab = build_vocab_from_iterator(yield_tokens(df_train), specials=[\"<unk>\", \"<pad>\"])   \n",
    "Config.VOCAB_SIZE = len(ast_vocab)"
   ]
  },
  {
   "cell_type": "code",
   "execution_count": 14,
   "metadata": {},
   "outputs": [
    {
     "name": "stderr",
     "output_type": "stream",
     "text": [
      "  0%|          | 0/10 [00:00<?, ?it/s]Skipping token b'10' with 1-dimensional vector [b'100']; likely a header\n",
      "100%|██████████| 10/10 [00:00<00:00, 5948.52it/s]\n"
     ]
    }
   ],
   "source": [
    "print(\"Loading fasttext embeddings\")\n",
    "\n",
    "FASTTEXT_EMB_FILE = \"models/fasttext_embeddings.vec\"\n",
    "FASTTEXT_MODEL = \"models/fasttext_embeddings.bin\"\n",
    "emb = torchtext.vocab.Vectors(name=FASTTEXT_EMB_FILE, cache=\"./vector_cache\")\n",
    "fasttext_model = fasttext.load_model(FASTTEXT_MODEL)"
   ]
  },
  {
   "cell_type": "code",
   "execution_count": 17,
   "metadata": {},
   "outputs": [],
   "source": [
    "def get_vocab_pt_emb_matrix(text_vocab, emb):\n",
    "    embedding_matrix = []\n",
    "    for token in text_vocab.get_itos():\n",
    "        embedding_matrix.append(emb.get_vecs_by_tokens(token))\n",
    "    return torch.stack(embedding_matrix)\n",
    "\n",
    "pt_emb_weights = get_vocab_pt_emb_matrix(ast_vocab, emb).to(Config.DEVICE)\n",
    "pt_emb_layer = nn.Embedding.from_pretrained(pt_emb_weights).to(Config.DEVICE)"
   ]
  },
  {
   "cell_type": "code",
   "execution_count": 23,
   "metadata": {},
   "outputs": [],
   "source": [
    "print(\"vectorize data\")\n",
    "\n",
    "df_train[\"vectorized_X\"] = df_train[\"X\"].apply(\n",
    "    lambda row:torch.LongTensor(ast_vocab.lookup_indices(row))\n",
    "    )\n",
    "\n",
    "df_test[\"vectorized_X\"] = df_test[\"X\"].apply(\n",
    "    lambda row:torch.LongTensor(ast_vocab.lookup_indices(row))\n",
    "    )"
   ]
  },
  {
   "cell_type": "code",
   "execution_count": 19,
   "metadata": {},
   "outputs": [],
   "source": [
    "class JavaScriptASTDataset(Dataset):\n",
    "    def __init__(self, ast_vecs, labels):\n",
    "        self.ast_vecs = ast_vecs\n",
    "        self.labels = labels\n",
    "\n",
    "    def __len__(self):\n",
    "        return len(self.labels)\n",
    "\n",
    "    def __getitem__(self, idx):\n",
    "        ast_vec = self.ast_vecs[idx]\n",
    "        label = self.labels[idx]\n",
    "        # ast_len = len(ast_vec)\n",
    "        return (ast_vec, label)\n"
   ]
  },
  {
   "cell_type": "code",
   "execution_count": 32,
   "metadata": {},
   "outputs": [],
   "source": [
    "def pad_collate(batch):\n",
    "    # Each element in the batch is a tuple (data, label)\n",
    "    # sort the batch (based on tweet word count) in descending order\n",
    "    sorted_batch = sorted(batch, key=lambda x:x[0].shape[0], reverse=True)\n",
    "    sequences = [x[0] for x in sorted_batch]\n",
    "    sequences_padded = pad_sequence(sequences, batch_first=True, padding_value=0)\n",
    "    # Also need to store the length of each sequence.This is later needed in order to unpad \n",
    "    # the sequences\n",
    "    seq_len = torch.Tensor([len(x) for x in sequences])\n",
    "    labels = torch.Tensor([x[1] for x in sorted_batch])\n",
    "    return sequences_padded, seq_len, labels\n",
    "\n",
    "X_train = df_train[\"vectorized_X\"].to_numpy()\n",
    "y_train = df_train[\"y\"].to_numpy()\n",
    "X_valid = df_test[\"vectorized_X\"].to_numpy()\n",
    "y_valid = df_test[\"y\"].to_numpy()\n",
    "\n",
    "train_data = JavaScriptASTDataset(X_train, y_train)\n",
    "train_loader = DataLoader(train_data, shuffle=True, batch_size=Config.BATCH_SIZE, num_workers=Config.NUM_WORKERS, collate_fn=pad_collate)\n",
    "\n",
    "# Create DataLoader for test data\n",
    "test_data = JavaScriptASTDataset(X_valid, y_valid)\n",
    "test_loader = DataLoader(test_data, shuffle=False, batch_size=Config.BATCH_SIZE, num_workers=Config.NUM_WORKERS, collate_fn=pad_collate)\n"
   ]
  },
  {
   "cell_type": "code",
   "execution_count": 58,
   "metadata": {},
   "outputs": [],
   "source": [
    "from torch.nn.utils.rnn import pack_padded_sequence, pad_packed_sequence\n",
    "\n",
    "class BiLSTMClassifier(nn.Module):\n",
    "    def __init__(self, vocab_size, embedding_dim, hidden_dim, output_dim, n_layers, dropout, pt_emb_weights):\n",
    "        super().__init__()\n",
    "\n",
    "        self.embedding = nn.Embedding(vocab_size, embedding_dim)\n",
    "        self.embedding.weight.data.copy_(pt_emb_weights)\n",
    "        self.rnn = nn.LSTM(\n",
    "            embedding_dim, \n",
    "            hidden_dim, \n",
    "            num_layers=n_layers, \n",
    "            bidirectional=True, \n",
    "            dropout=dropout\n",
    "            )\n",
    "        \n",
    "        self.fc = nn.Linear(hidden_dim * 2, 1)\n",
    "        \n",
    "        self.dropout = nn.Dropout(dropout)\n",
    "        # self.act = nn.Sigmoid()\n",
    "\n",
    "    def forward(self, text, lengths):\n",
    "        embedded = self.embedding(text)\n",
    "        embeds_pack = pack_padded_sequence(embedded, lengths.to(\"cpu\"), batch_first=True) \n",
    "        output, (hidden, cell) = self.rnn(embeds_pack)\n",
    "        \n",
    "        hidden = self.dropout(torch.cat((hidden[-2,:,:], hidden[-1,:,:]), dim = 1))\n",
    "        output = self.fc(hidden) \n",
    "        # output = self.act(output)\n",
    "        return output\n"
   ]
  },
  {
   "cell_type": "code",
   "execution_count": 59,
   "metadata": {},
   "outputs": [],
   "source": [
    "model = BiLSTMClassifier(\n",
    "\tvocab_size=Config.VOCAB_SIZE,\n",
    "\tembedding_dim=Config.EMB_SIZE,\n",
    "\thidden_dim=Config.MODEL_PARAMS[\"hidden_size\"],\n",
    "\toutput_dim=Config.OUT_SIZE,\n",
    "\tn_layers=Config.MODEL_PARAMS[\"num_layers\"],\n",
    "\tdropout=Config.MODEL_PARAMS[\"drop_out\"],\n",
    "\tpt_emb_weights=pt_emb_weights\n",
    "\t).to(Config.DEVICE)"
   ]
  },
  {
   "cell_type": "code",
   "execution_count": 30,
   "metadata": {},
   "outputs": [],
   "source": [
    "import torch.optim as optim\n",
    "\n",
    "optimizer = optim.Adam(model.parameters(), lr=0.001)\n",
    "criterion = nn.BCEWithLogitsLoss()"
   ]
  },
  {
   "cell_type": "code",
   "execution_count": null,
   "metadata": {},
   "outputs": [],
   "source": [
    "import os\n",
    "import json\n",
    "import matplotlib.pyplot as plt"
   ]
  },
  {
   "cell_type": "code",
   "execution_count": null,
   "metadata": {},
   "outputs": [],
   "source": [
    "print(\"Start training\")\n",
    "\n",
    "n_epochs = 5  # Number of epochs; you can adjust this\n",
    "\n",
    "if not os.path.exists('models'):\n",
    "    os.makedirs('models')\n",
    "\n",
    "losses = []\n",
    "for epoch in range(n_epochs):\n",
    "    epoch_losses = []\n",
    "    model.train()\n",
    "    \n",
    "    for sequences_padded, seq_len, labels in train_loader:\n",
    "        sequences_padded, seq_len, labels = sequences_padded.to(Config.DEVICE), seq_len.to(Config.DEVICE), labels.to(Config.DEVICE)\n",
    "        optimizer.zero_grad()\n",
    "        \n",
    "        predictions = model(sequences_padded, seq_len).squeeze(1)\n",
    "\n",
    "        loss = criterion(predictions, labels)\n",
    "        loss.backward()\n",
    "        optimizer.step()\n",
    "\n",
    "        epoch_losses.append(loss.item())\n",
    "    \n",
    "    avg_epoch_loss = sum(epoch_losses) / len(epoch_losses)\n",
    "    print(f'Epoch: {epoch+1:02}')\n",
    "    print(f'\\tAverage Train Loss: {avg_epoch_loss:.3f}')\n",
    "    \n",
    "    # Store average loss for this epoch to losses list\n",
    "    losses.append(avg_epoch_loss)\n",
    "\n",
    "    # Save model checkpoint\n",
    "    checkpoint_path = f'models/model_epoch_{epoch + 1}.pt'\n",
    "    torch.save(model.state_dict(), checkpoint_path)\n",
    "\n",
    "plt.plot(losses)\n",
    "plt.title('Training Loss')\n",
    "plt.xlabel('Epoch')\n",
    "plt.ylabel('Loss')\n",
    "plt.savefig('training_loss.png')"
   ]
  },
  {
   "cell_type": "code",
   "execution_count": null,
   "metadata": {},
   "outputs": [],
   "source": [
    "# from sklearn.metrics import accuracy_score\n",
    "\n",
    "# # Set the model to evaluation mode\n",
    "# model.eval()\n",
    "\n",
    "# all_predictions = []\n",
    "# all_labels = []\n",
    "\n",
    "# with torch.no_grad():\n",
    "#     for sequences_padded, seq_len, labels in test_loader:\n",
    "\n",
    "#         predictions = model(sequences_padded, seq_len).squeeze(1)\n",
    "#         rounded_preds = torch.round(torch.sigmoid(predictions))\n",
    "\n",
    "#         all_predictions.extend(rounded_preds.cpu().numpy())\n",
    "#         all_labels.extend(labels.cpu().numpy())\n",
    "\n",
    "# accuracy = accuracy_score(all_labels, all_predictions)\n",
    "# print(f'Accuracy: {accuracy * 100:.2f}%')"
   ]
  }
 ],
 "metadata": {
  "kernelspec": {
   "display_name": "base",
   "language": "python",
   "name": "python3"
  },
  "language_info": {
   "codemirror_mode": {
    "name": "ipython",
    "version": 3
   },
   "file_extension": ".py",
   "mimetype": "text/x-python",
   "name": "python",
   "nbconvert_exporter": "python",
   "pygments_lexer": "ipython3",
   "version": "3.10.11"
  },
  "orig_nbformat": 4
 },
 "nbformat": 4,
 "nbformat_minor": 2
}
