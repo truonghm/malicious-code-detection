{
 "cells": [
  {
   "cell_type": "code",
   "execution_count": 1,
   "metadata": {},
   "outputs": [
    {
     "name": "stdout",
     "output_type": "stream",
     "text": [
      "/home/truonghm/learning/m1-internship/malicious-code-detection\n"
     ]
    }
   ],
   "source": [
    "from dotenv import load_dotenv\n",
    "import os\n",
    "\n",
    "load_dotenv()\n",
    "\n",
    "os.chdir(os.getenv(\"PROJECT_ROOT_DIR\"))\n",
    "print(os.getcwd())"
   ]
  },
  {
   "cell_type": "code",
   "execution_count": 2,
   "metadata": {},
   "outputs": [],
   "source": [
    "import pandas as pd"
   ]
  },
  {
   "cell_type": "code",
   "execution_count": 17,
   "metadata": {},
   "outputs": [],
   "source": [
    "url_df = pd.read_csv(\"data/malicious_phish.csv\", usecols=[1,2,3], header=0, names=[\"url\", \"type\", \"super_type\"])"
   ]
  },
  {
   "cell_type": "code",
   "execution_count": 18,
   "metadata": {},
   "outputs": [
    {
     "data": {
      "text/html": [
       "<div>\n",
       "<style scoped>\n",
       "    .dataframe tbody tr th:only-of-type {\n",
       "        vertical-align: middle;\n",
       "    }\n",
       "\n",
       "    .dataframe tbody tr th {\n",
       "        vertical-align: top;\n",
       "    }\n",
       "\n",
       "    .dataframe thead th {\n",
       "        text-align: right;\n",
       "    }\n",
       "</style>\n",
       "<table border=\"1\" class=\"dataframe\">\n",
       "  <thead>\n",
       "    <tr style=\"text-align: right;\">\n",
       "      <th></th>\n",
       "      <th>url</th>\n",
       "      <th>type</th>\n",
       "      <th>super_type</th>\n",
       "    </tr>\n",
       "  </thead>\n",
       "  <tbody>\n",
       "    <tr>\n",
       "      <th>0</th>\n",
       "      <td>http://br-icloud.com.br</td>\n",
       "      <td>phishing</td>\n",
       "      <td>badjs</td>\n",
       "    </tr>\n",
       "    <tr>\n",
       "      <th>1</th>\n",
       "      <td>http://mp3raid.com/music/krizz_kaliko.html</td>\n",
       "      <td>benign</td>\n",
       "      <td>goodjs</td>\n",
       "    </tr>\n",
       "    <tr>\n",
       "      <th>2</th>\n",
       "      <td>http://bopsecrets.org/rexroth/cr/1.htm</td>\n",
       "      <td>benign</td>\n",
       "      <td>goodjs</td>\n",
       "    </tr>\n",
       "    <tr>\n",
       "      <th>3</th>\n",
       "      <td>http://www.garage-pirenne.be/index.php?option=...</td>\n",
       "      <td>defacement</td>\n",
       "      <td>badjs</td>\n",
       "    </tr>\n",
       "    <tr>\n",
       "      <th>4</th>\n",
       "      <td>http://adventure-nicaragua.net/index.php?optio...</td>\n",
       "      <td>defacement</td>\n",
       "      <td>badjs</td>\n",
       "    </tr>\n",
       "  </tbody>\n",
       "</table>\n",
       "</div>"
      ],
      "text/plain": [
       "                                                 url        type super_type\n",
       "0                            http://br-icloud.com.br    phishing      badjs\n",
       "1         http://mp3raid.com/music/krizz_kaliko.html      benign     goodjs\n",
       "2             http://bopsecrets.org/rexroth/cr/1.htm      benign     goodjs\n",
       "3  http://www.garage-pirenne.be/index.php?option=...  defacement      badjs\n",
       "4  http://adventure-nicaragua.net/index.php?optio...  defacement      badjs"
      ]
     },
     "execution_count": 18,
     "metadata": {},
     "output_type": "execute_result"
    }
   ],
   "source": [
    "url_df.head()"
   ]
  },
  {
   "cell_type": "code",
   "execution_count": 19,
   "metadata": {},
   "outputs": [],
   "source": [
    "url_df = url_df.drop_duplicates(subset=['url'])"
   ]
  },
  {
   "cell_type": "code",
   "execution_count": 20,
   "metadata": {},
   "outputs": [],
   "source": [
    "url_df[\"super_type\"] = url_df[\"type\"].apply(lambda x: \"badjs\" if x != \"benign\" else \"goodjs\")"
   ]
  },
  {
   "cell_type": "code",
   "execution_count": 21,
   "metadata": {},
   "outputs": [],
   "source": [
    "url_df.reset_index(drop=False, inplace=True)"
   ]
  },
  {
   "cell_type": "code",
   "execution_count": 22,
   "metadata": {},
   "outputs": [
    {
     "data": {
      "text/html": [
       "<div>\n",
       "<style scoped>\n",
       "    .dataframe tbody tr th:only-of-type {\n",
       "        vertical-align: middle;\n",
       "    }\n",
       "\n",
       "    .dataframe tbody tr th {\n",
       "        vertical-align: top;\n",
       "    }\n",
       "\n",
       "    .dataframe thead th {\n",
       "        text-align: right;\n",
       "    }\n",
       "</style>\n",
       "<table border=\"1\" class=\"dataframe\">\n",
       "  <thead>\n",
       "    <tr style=\"text-align: right;\">\n",
       "      <th></th>\n",
       "      <th>index</th>\n",
       "      <th>url</th>\n",
       "      <th>type</th>\n",
       "      <th>super_type</th>\n",
       "    </tr>\n",
       "  </thead>\n",
       "  <tbody>\n",
       "    <tr>\n",
       "      <th>0</th>\n",
       "      <td>0</td>\n",
       "      <td>http://br-icloud.com.br</td>\n",
       "      <td>phishing</td>\n",
       "      <td>badjs</td>\n",
       "    </tr>\n",
       "    <tr>\n",
       "      <th>1</th>\n",
       "      <td>1</td>\n",
       "      <td>http://mp3raid.com/music/krizz_kaliko.html</td>\n",
       "      <td>benign</td>\n",
       "      <td>goodjs</td>\n",
       "    </tr>\n",
       "    <tr>\n",
       "      <th>2</th>\n",
       "      <td>2</td>\n",
       "      <td>http://bopsecrets.org/rexroth/cr/1.htm</td>\n",
       "      <td>benign</td>\n",
       "      <td>goodjs</td>\n",
       "    </tr>\n",
       "    <tr>\n",
       "      <th>3</th>\n",
       "      <td>3</td>\n",
       "      <td>http://www.garage-pirenne.be/index.php?option=...</td>\n",
       "      <td>defacement</td>\n",
       "      <td>badjs</td>\n",
       "    </tr>\n",
       "    <tr>\n",
       "      <th>4</th>\n",
       "      <td>4</td>\n",
       "      <td>http://adventure-nicaragua.net/index.php?optio...</td>\n",
       "      <td>defacement</td>\n",
       "      <td>badjs</td>\n",
       "    </tr>\n",
       "  </tbody>\n",
       "</table>\n",
       "</div>"
      ],
      "text/plain": [
       "   index                                                url        type  \\\n",
       "0      0                            http://br-icloud.com.br    phishing   \n",
       "1      1         http://mp3raid.com/music/krizz_kaliko.html      benign   \n",
       "2      2             http://bopsecrets.org/rexroth/cr/1.htm      benign   \n",
       "3      3  http://www.garage-pirenne.be/index.php?option=...  defacement   \n",
       "4      4  http://adventure-nicaragua.net/index.php?optio...  defacement   \n",
       "\n",
       "  super_type  \n",
       "0      badjs  \n",
       "1     goodjs  \n",
       "2     goodjs  \n",
       "3      badjs  \n",
       "4      badjs  "
      ]
     },
     "execution_count": 22,
     "metadata": {},
     "output_type": "execute_result"
    }
   ],
   "source": [
    "url_df.head()"
   ]
  },
  {
   "cell_type": "code",
   "execution_count": 13,
   "metadata": {},
   "outputs": [],
   "source": [
    "url_df.to_csv(\"data/malicious_phish.csv\", index=False)"
   ]
  },
  {
   "cell_type": "code",
   "execution_count": 14,
   "metadata": {},
   "outputs": [
    {
     "data": {
      "text/html": [
       "<div>\n",
       "<style scoped>\n",
       "    .dataframe tbody tr th:only-of-type {\n",
       "        vertical-align: middle;\n",
       "    }\n",
       "\n",
       "    .dataframe tbody tr th {\n",
       "        vertical-align: top;\n",
       "    }\n",
       "\n",
       "    .dataframe thead th {\n",
       "        text-align: right;\n",
       "    }\n",
       "</style>\n",
       "<table border=\"1\" class=\"dataframe\">\n",
       "  <thead>\n",
       "    <tr style=\"text-align: right;\">\n",
       "      <th></th>\n",
       "      <th>Unnamed: 0</th>\n",
       "      <th>url</th>\n",
       "      <th>type</th>\n",
       "      <th>super_type</th>\n",
       "    </tr>\n",
       "  </thead>\n",
       "  <tbody>\n",
       "    <tr>\n",
       "      <th>0</th>\n",
       "      <td>0</td>\n",
       "      <td>http://br-icloud.com.br</td>\n",
       "      <td>phishing</td>\n",
       "      <td>badjs</td>\n",
       "    </tr>\n",
       "    <tr>\n",
       "      <th>1</th>\n",
       "      <td>1</td>\n",
       "      <td>http://mp3raid.com/music/krizz_kaliko.html</td>\n",
       "      <td>benign</td>\n",
       "      <td>goodjs</td>\n",
       "    </tr>\n",
       "    <tr>\n",
       "      <th>2</th>\n",
       "      <td>2</td>\n",
       "      <td>http://bopsecrets.org/rexroth/cr/1.htm</td>\n",
       "      <td>benign</td>\n",
       "      <td>goodjs</td>\n",
       "    </tr>\n",
       "    <tr>\n",
       "      <th>3</th>\n",
       "      <td>3</td>\n",
       "      <td>http://www.garage-pirenne.be/index.php?option=...</td>\n",
       "      <td>defacement</td>\n",
       "      <td>badjs</td>\n",
       "    </tr>\n",
       "    <tr>\n",
       "      <th>4</th>\n",
       "      <td>4</td>\n",
       "      <td>http://adventure-nicaragua.net/index.php?optio...</td>\n",
       "      <td>defacement</td>\n",
       "      <td>badjs</td>\n",
       "    </tr>\n",
       "  </tbody>\n",
       "</table>\n",
       "</div>"
      ],
      "text/plain": [
       "   Unnamed: 0                                                url        type  \\\n",
       "0           0                            http://br-icloud.com.br    phishing   \n",
       "1           1         http://mp3raid.com/music/krizz_kaliko.html      benign   \n",
       "2           2             http://bopsecrets.org/rexroth/cr/1.htm      benign   \n",
       "3           3  http://www.garage-pirenne.be/index.php?option=...  defacement   \n",
       "4           4  http://adventure-nicaragua.net/index.php?optio...  defacement   \n",
       "\n",
       "  super_type  \n",
       "0      badjs  \n",
       "1     goodjs  \n",
       "2     goodjs  \n",
       "3      badjs  \n",
       "4      badjs  "
      ]
     },
     "execution_count": 14,
     "metadata": {},
     "output_type": "execute_result"
    }
   ],
   "source": [
    "url_df.head()"
   ]
  },
  {
   "cell_type": "code",
   "execution_count": 39,
   "metadata": {},
   "outputs": [
    {
     "data": {
      "text/html": [
       "<div>\n",
       "<style scoped>\n",
       "    .dataframe tbody tr th:only-of-type {\n",
       "        vertical-align: middle;\n",
       "    }\n",
       "\n",
       "    .dataframe tbody tr th {\n",
       "        vertical-align: top;\n",
       "    }\n",
       "\n",
       "    .dataframe thead th {\n",
       "        text-align: right;\n",
       "    }\n",
       "</style>\n",
       "<table border=\"1\" class=\"dataframe\">\n",
       "  <thead>\n",
       "    <tr style=\"text-align: right;\">\n",
       "      <th></th>\n",
       "      <th>url</th>\n",
       "      <th>super_type</th>\n",
       "      <th>valid</th>\n",
       "    </tr>\n",
       "    <tr>\n",
       "      <th>type</th>\n",
       "      <th></th>\n",
       "      <th></th>\n",
       "      <th></th>\n",
       "    </tr>\n",
       "  </thead>\n",
       "  <tbody>\n",
       "    <tr>\n",
       "      <th>benign</th>\n",
       "      <td>428103</td>\n",
       "      <td>428103</td>\n",
       "      <td>4</td>\n",
       "    </tr>\n",
       "    <tr>\n",
       "      <th>defacement</th>\n",
       "      <td>96457</td>\n",
       "      <td>96457</td>\n",
       "      <td>3</td>\n",
       "    </tr>\n",
       "    <tr>\n",
       "      <th>malware</th>\n",
       "      <td>32520</td>\n",
       "      <td>32520</td>\n",
       "      <td>0</td>\n",
       "    </tr>\n",
       "    <tr>\n",
       "      <th>phishing</th>\n",
       "      <td>94111</td>\n",
       "      <td>94111</td>\n",
       "      <td>1</td>\n",
       "    </tr>\n",
       "  </tbody>\n",
       "</table>\n",
       "</div>"
      ],
      "text/plain": [
       "               url  super_type  valid\n",
       "type                                 \n",
       "benign      428103      428103      4\n",
       "defacement   96457       96457      3\n",
       "malware      32520       32520      0\n",
       "phishing     94111       94111      1"
      ]
     },
     "execution_count": 39,
     "metadata": {},
     "output_type": "execute_result"
    }
   ],
   "source": [
    "url_df.groupby(\"type\").count()"
   ]
  },
  {
   "cell_type": "code",
   "execution_count": 13,
   "metadata": {},
   "outputs": [],
   "source": [
    "# set the super type: if type is not benign, set it to malicious\n",
    "\n",
    "url_df[\"super_type\"] = url_df[\"type\"].apply(lambda x: \"malicious\" if x != \"benign\" else \"benign\")\n",
    "url_df[\"valid\"] = None"
   ]
  },
  {
   "cell_type": "code",
   "execution_count": 40,
   "metadata": {},
   "outputs": [
    {
     "data": {
      "text/plain": [
       "(651191, 4)"
      ]
     },
     "execution_count": 40,
     "metadata": {},
     "output_type": "execute_result"
    }
   ],
   "source": [
    "url_df.shape"
   ]
  },
  {
   "cell_type": "code",
   "execution_count": 11,
   "metadata": {},
   "outputs": [],
   "source": [
    "import json\n",
    "import os\n",
    "\n",
    "import bs4\n",
    "import pymongo\n",
    "import requests"
   ]
  },
  {
   "cell_type": "code",
   "execution_count": 27,
   "metadata": {},
   "outputs": [
    {
     "data": {
      "text/html": [
       "<div>\n",
       "<style scoped>\n",
       "    .dataframe tbody tr th:only-of-type {\n",
       "        vertical-align: middle;\n",
       "    }\n",
       "\n",
       "    .dataframe tbody tr th {\n",
       "        vertical-align: top;\n",
       "    }\n",
       "\n",
       "    .dataframe thead th {\n",
       "        text-align: right;\n",
       "    }\n",
       "</style>\n",
       "<table border=\"1\" class=\"dataframe\">\n",
       "  <thead>\n",
       "    <tr style=\"text-align: right;\">\n",
       "      <th></th>\n",
       "      <th>url</th>\n",
       "      <th>type</th>\n",
       "      <th>super_type</th>\n",
       "      <th>valid</th>\n",
       "    </tr>\n",
       "  </thead>\n",
       "  <tbody>\n",
       "    <tr>\n",
       "      <th>0</th>\n",
       "      <td>http://br-icloud.com.br</td>\n",
       "      <td>phishing</td>\n",
       "      <td>malicious</td>\n",
       "      <td>False</td>\n",
       "    </tr>\n",
       "    <tr>\n",
       "      <th>1</th>\n",
       "      <td>http://mp3raid.com/music/krizz_kaliko.html</td>\n",
       "      <td>benign</td>\n",
       "      <td>benign</td>\n",
       "      <td>False</td>\n",
       "    </tr>\n",
       "    <tr>\n",
       "      <th>2</th>\n",
       "      <td>http://bopsecrets.org/rexroth/cr/1.htm</td>\n",
       "      <td>benign</td>\n",
       "      <td>benign</td>\n",
       "      <td>False</td>\n",
       "    </tr>\n",
       "    <tr>\n",
       "      <th>3</th>\n",
       "      <td>http://www.garage-pirenne.be/index.php?option=...</td>\n",
       "      <td>defacement</td>\n",
       "      <td>malicious</td>\n",
       "      <td>False</td>\n",
       "    </tr>\n",
       "    <tr>\n",
       "      <th>4</th>\n",
       "      <td>http://adventure-nicaragua.net/index.php?optio...</td>\n",
       "      <td>defacement</td>\n",
       "      <td>malicious</td>\n",
       "      <td>False</td>\n",
       "    </tr>\n",
       "    <tr>\n",
       "      <th>5</th>\n",
       "      <td>http://buzzfil.net/m/show-art/ils-etaient-loin...</td>\n",
       "      <td>benign</td>\n",
       "      <td>benign</td>\n",
       "      <td>False</td>\n",
       "    </tr>\n",
       "    <tr>\n",
       "      <th>6</th>\n",
       "      <td>http://espn.go.com/nba/player/_/id/3457/brando...</td>\n",
       "      <td>benign</td>\n",
       "      <td>benign</td>\n",
       "      <td>False</td>\n",
       "    </tr>\n",
       "    <tr>\n",
       "      <th>7</th>\n",
       "      <td>http://yourbittorrent.com/?q=anthony-hamilton-...</td>\n",
       "      <td>benign</td>\n",
       "      <td>benign</td>\n",
       "      <td>None</td>\n",
       "    </tr>\n",
       "    <tr>\n",
       "      <th>8</th>\n",
       "      <td>http://www.pashminaonline.com/pure-pashminas</td>\n",
       "      <td>defacement</td>\n",
       "      <td>malicious</td>\n",
       "      <td>False</td>\n",
       "    </tr>\n",
       "    <tr>\n",
       "      <th>9</th>\n",
       "      <td>http://allmusic.com/album/crazy-from-the-heat-...</td>\n",
       "      <td>benign</td>\n",
       "      <td>benign</td>\n",
       "      <td>None</td>\n",
       "    </tr>\n",
       "  </tbody>\n",
       "</table>\n",
       "</div>"
      ],
      "text/plain": [
       "                                                 url        type super_type  \\\n",
       "0                            http://br-icloud.com.br    phishing  malicious   \n",
       "1         http://mp3raid.com/music/krizz_kaliko.html      benign     benign   \n",
       "2             http://bopsecrets.org/rexroth/cr/1.htm      benign     benign   \n",
       "3  http://www.garage-pirenne.be/index.php?option=...  defacement  malicious   \n",
       "4  http://adventure-nicaragua.net/index.php?optio...  defacement  malicious   \n",
       "5  http://buzzfil.net/m/show-art/ils-etaient-loin...      benign     benign   \n",
       "6  http://espn.go.com/nba/player/_/id/3457/brando...      benign     benign   \n",
       "7  http://yourbittorrent.com/?q=anthony-hamilton-...      benign     benign   \n",
       "8       http://www.pashminaonline.com/pure-pashminas  defacement  malicious   \n",
       "9  http://allmusic.com/album/crazy-from-the-heat-...      benign     benign   \n",
       "\n",
       "   valid  \n",
       "0  False  \n",
       "1  False  \n",
       "2  False  \n",
       "3  False  \n",
       "4  False  \n",
       "5  False  \n",
       "6  False  \n",
       "7   None  \n",
       "8  False  \n",
       "9   None  "
      ]
     },
     "execution_count": 27,
     "metadata": {},
     "output_type": "execute_result"
    }
   ],
   "source": [
    "url_df.head(10)"
   ]
  },
  {
   "cell_type": "code",
   "execution_count": 29,
   "metadata": {},
   "outputs": [],
   "source": [
    "import concurrent.futures"
   ]
  },
  {
   "cell_type": "code",
   "execution_count": 42,
   "metadata": {},
   "outputs": [
    {
     "data": {
      "text/plain": [
       "RangeIndex(start=100, stop=10100, step=1)"
      ]
     },
     "execution_count": 42,
     "metadata": {},
     "output_type": "execute_result"
    }
   ],
   "source": [
    "skip = 100\n",
    "limit = 10000\n",
    "url_df.iloc[skip : skip + limit].index"
   ]
  },
  {
   "cell_type": "code",
   "execution_count": 35,
   "metadata": {},
   "outputs": [
    {
     "name": "stdout",
     "output_type": "stream",
     "text": [
      "Failed (benign): http://quickfacts.census.gov/qfd/maps/iowa_map.html, HTTPConnectionPool(host='quickfacts.census.gov', port=80): Max retries exceeded with url: /qfd/maps/iowa_map.html (Caused by NewConnectionError('<urllib3.connection.HTTPConnection object at 0x7f56f46b8b80>: Failed to establish a new connection: [Errno -5] No address associated with hostname'))\n",
      "Failed (malicious): http://larcadelcarnevale.com/catalogo/palloncini, HTTPConnectionPool(host='larcadelcarnevale.com', port=80): Max retries exceeded with url: /catalogo/palloncini (Caused by ConnectTimeoutError(<urllib3.connection.HTTPConnection object at 0x7f56f46b8040>, 'Connection to larcadelcarnevale.com timed out. (connect timeout=3)'))\n",
      "Failed (malicious): http://www.lebensmittel-ueberwachung.de/index.php/aktuelles.1, HTTPConnectionPool(host='www.lebensmittel-ueberwachung.de', port=80): Max retries exceeded with url: /index.php/aktuelles.1 (Caused by ConnectTimeoutError(<urllib3.connection.HTTPConnection object at 0x7f56fae3ffa0>, 'Connection to www.lebensmittel-ueberwachung.de timed out. (connect timeout=3)'))\n",
      "Failed (malicious): http://www.ikenmijnkunst.nl/index.php/exposities/exposities-2006, HTTPConnectionPool(host='www.ikenmijnkunst.nl', port=80): Max retries exceeded with url: /index.php/exposities/exposities-2006 (Caused by ConnectTimeoutError(<urllib3.connection.HTTPConnection object at 0x7f56fc7d3040>, 'Connection to www.ikenmijnkunst.nl timed out. (connect timeout=3)'))\n",
      "Failed (benign): http://yourbittorrent.com/?q=anthony-hamilton-soulife, HTTPSConnectionPool(host='yourbittorrent.com', port=443): Read timed out. (read timeout=3)\n"
     ]
    }
   ],
   "source": [
    "\n",
    "def extract_js(url):\n",
    "    try:\n",
    "        response = requests.get(url, timeout=3)\n",
    "        # print(\"Status code:\", response.status_code)\n",
    "        if response.status_code != 200 or not response.text:\n",
    "            return \"\"\n",
    "        soup = bs4.BeautifulSoup(response.text, \"html.parser\")\n",
    "        scripts = soup.find_all(\"script\")\n",
    "        js_code = \"\"\n",
    "        for script in scripts:\n",
    "            if script.contents:\n",
    "                js_code += script.contents[0]\n",
    "        return js_code\n",
    "    except requests.exceptions.RequestException as e:\n",
    "        raise\n",
    "\n",
    "\n",
    "def extract_js_and_save(url, label, super_label, is_valid):\n",
    "    if is_valid is False:\n",
    "        return None\n",
    "\n",
    "    if not url.startswith(\"http\") and not url.startswith(\"https\"):\n",
    "        new_url = \"http://\" + url\n",
    "    else:\n",
    "        new_url = url\n",
    "\n",
    "    try:\n",
    "        js_code = extract_js(new_url)\n",
    "    except Exception as e:\n",
    "        print(f\"Failed ({super_label}): {new_url}, {str(e)}\")\n",
    "        return None\n",
    "\n",
    "    if js_code == \"\":\n",
    "        return None\n",
    "\n",
    "    return {\n",
    "        \"url\": new_url,\n",
    "        \"label\": label,\n",
    "        \"super_label\": super_label,\n",
    "        \"js_code\": js_code\n",
    "    }\n",
    "    print(f\"Success ({super_label}): {new_url}\")\n",
    "\n",
    "result = []\n",
    "n_url = 10\n",
    "\n",
    "# use a thread pool to execute the tasks\n",
    "with concurrent.futures.ThreadPoolExecutor() as executor:\n",
    "    # prepare the arguments for each task\n",
    "    args = [(url, label, super_label, is_valid) for url, label, super_label, is_valid in url_df[url_df[\"valid\"].isnull()].head(n_url).itertuples(index=False)]\n",
    "    # submit the tasks and wait for the results\n",
    "    for res in executor.map(lambda x: extract_js_and_save(*x), args):\n",
    "        if res:\n",
    "            result.append(res)\n",
    "\n",
    "url_df.to_csv(\"data/archive/malicious_phish.csv\", index=False)"
   ]
  }
 ],
 "metadata": {
  "kernelspec": {
   "display_name": "Python 3",
   "language": "python",
   "name": "python3"
  },
  "language_info": {
   "codemirror_mode": {
    "name": "ipython",
    "version": 3
   },
   "file_extension": ".py",
   "mimetype": "text/x-python",
   "name": "python",
   "nbconvert_exporter": "python",
   "pygments_lexer": "ipython3",
   "version": "3.10.12"
  },
  "orig_nbformat": 4
 },
 "nbformat": 4,
 "nbformat_minor": 2
}
